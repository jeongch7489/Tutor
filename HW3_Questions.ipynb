{
 "cells": [
  {
   "cell_type": "code",
   "execution_count": 1,
   "metadata": {},
   "outputs": [],
   "source": [
    "import pandas as pd\n",
    "import numpy as np"
   ]
  },
  {
   "cell_type": "markdown",
   "metadata": {},
   "source": [
    "List comprehension\n",
    "\n",
    "List = [expresssion for item in iterable (if condition)]"
   ]
  },
  {
   "cell_type": "code",
   "execution_count": 2,
   "metadata": {},
   "outputs": [
    {
     "data": {
      "text/plain": [
       "['BAT', 'CAR', 'DOVE', 'PYTHON']"
      ]
     },
     "execution_count": 2,
     "metadata": {},
     "output_type": "execute_result"
    }
   ],
   "source": [
    "strings = ['a', 'as', 'bat', 'car', 'dove', 'python']\n",
    "[x.upper() for x in strings if len(x) > 2]"
   ]
  },
  {
   "cell_type": "markdown",
   "metadata": {},
   "source": [
    "Create a list of numbers from a range of 0 to 1000 that only includes numbers divisble by 8.\n",
    "\n",
    "First, do this exercise with a for loop.\n",
    "\n",
    "After, do the same exercise using list comprehension."
   ]
  },
  {
   "cell_type": "code",
   "execution_count": null,
   "metadata": {},
   "outputs": [],
   "source": []
  },
  {
   "cell_type": "code",
   "execution_count": null,
   "metadata": {},
   "outputs": [],
   "source": []
  },
  {
   "cell_type": "markdown",
   "metadata": {},
   "source": [
    "Write this for loop using list comprehension."
   ]
  },
  {
   "cell_type": "code",
   "execution_count": 10,
   "metadata": {},
   "outputs": [
    {
     "data": {
      "text/plain": [
       "[4, 3, 2, 1, 0, 2, 4, 6, 8]"
      ]
     },
     "execution_count": 10,
     "metadata": {},
     "output_type": "execute_result"
    }
   ],
   "source": [
    "result=[]\n",
    "for i in range(-4, 5):\n",
    "    if i>0:\n",
    "        result.append(2*i)\n",
    "    else: \n",
    "        result.append(-i)\n",
    "result"
   ]
  },
  {
   "cell_type": "code",
   "execution_count": null,
   "metadata": {},
   "outputs": [],
   "source": []
  },
  {
   "cell_type": "markdown",
   "metadata": {},
   "source": [
    "Given a sentence (string), count the number of spaces (\" \") in the sentence.\n",
    "\n",
    "First, do this exercise with a for loop.\n",
    "\n",
    "After, do the same exercise using list comprehension."
   ]
  },
  {
   "cell_type": "code",
   "execution_count": 5,
   "metadata": {},
   "outputs": [],
   "source": [
    "sentence = \"When I play League of Legends, I am a jungle main. My favorite champion is Gragas.\""
   ]
  },
  {
   "cell_type": "code",
   "execution_count": null,
   "metadata": {},
   "outputs": [],
   "source": []
  },
  {
   "cell_type": "markdown",
   "metadata": {},
   "source": [
    "Given two lists, multiply the numbers of the list that are in the same location. \n",
    "\n",
    "First, use the lambda function.\n",
    "\n",
    "Second, use list comprehension"
   ]
  },
  {
   "cell_type": "code",
   "execution_count": 6,
   "metadata": {},
   "outputs": [],
   "source": [
    "list_a=[1,2,3,4]\n",
    "list_b=[5,6,7,8]"
   ]
  },
  {
   "cell_type": "code",
   "execution_count": null,
   "metadata": {},
   "outputs": [],
   "source": []
  },
  {
   "cell_type": "markdown",
   "metadata": {},
   "source": [
    "Given a list, create a dummy variable based on the mean of the list values. If the value > mean, change it to 1. If the value < mean, change it to 0.\n",
    "\n",
    "First, use a for loop.\n",
    "\n",
    "Second, use list comprehension."
   ]
  },
  {
   "cell_type": "code",
   "execution_count": null,
   "metadata": {},
   "outputs": [],
   "source": [
    "list_c = [22, 13, 45, 50, 98, 69, 43, 44, 1, 7, 55, 90, 19, 57, 77, 46, 57]"
   ]
  },
  {
   "cell_type": "markdown",
   "metadata": {},
   "source": [
    "Dictionary comprehension\n",
    "\n",
    "\n",
    "Dictionary = {expression for key, value in iterable (if conditional)}"
   ]
  },
  {
   "cell_type": "code",
   "execution_count": 11,
   "metadata": {},
   "outputs": [
    {
     "data": {
      "text/plain": [
       "{'a': 2, 'b': 4, 'c': 6, 'd': 8, 'e': 10}"
      ]
     },
     "execution_count": 11,
     "metadata": {},
     "output_type": "execute_result"
    }
   ],
   "source": [
    "dict1 = {'a': 1, 'b': 2, 'c': 3, 'd': 4, 'e': 5}\n",
    "double_dict1 = {k:v*2 for k,v in dict1.items()}\n",
    "double_dict1"
   ]
  },
  {
   "cell_type": "markdown",
   "metadata": {},
   "source": [
    "Create a dictionary from two lists.\n",
    "\n",
    "First, create a dictionary without using dicionary comprehension.\n",
    "\n",
    "Second, create a a dictionary using dictionary comprehension."
   ]
  },
  {
   "cell_type": "code",
   "execution_count": 12,
   "metadata": {},
   "outputs": [],
   "source": [
    "words = ['data', 'science', 'machine', 'learning']\n",
    "values = [5, 3, 1, 8]"
   ]
  },
  {
   "cell_type": "code",
   "execution_count": null,
   "metadata": {},
   "outputs": [],
   "source": []
  },
  {
   "cell_type": "markdown",
   "metadata": {},
   "source": [
    "Given a list of names, create a dictionary with the name as the key and the length of the name as the value.\n",
    "\n",
    "First, create the dictionary without using dictionary comprehension.\n",
    "\n",
    "Second, create the dictionary using dictionary comprehension."
   ]
  },
  {
   "cell_type": "code",
   "execution_count": null,
   "metadata": {},
   "outputs": [],
   "source": [
    "names = ['John', 'David', 'Taylor', 'Eva', 'Ashley']\n"
   ]
  },
  {
   "cell_type": "code",
   "execution_count": null,
   "metadata": {},
   "outputs": [],
   "source": [
    "names = ['John', 'David', 'Taylor', 'Eva', 'Ashley']\n"
   ]
  },
  {
   "cell_type": "markdown",
   "metadata": {},
   "source": [
    "Given a dictionary, create a new dictionary that only contains items where the age is an even number.\n",
    "\n",
    "First, create the dictionary without using dictionary comprehension.\n",
    "\n",
    "Second, create the dictionary using dictionary comprehension."
   ]
  },
  {
   "cell_type": "code",
   "execution_count": 13,
   "metadata": {},
   "outputs": [],
   "source": [
    "original_dict = {'jack': 38, 'michael': 48, 'guido': 57, 'john': 33}"
   ]
  },
  {
   "cell_type": "code",
   "execution_count": null,
   "metadata": {},
   "outputs": [],
   "source": []
  },
  {
   "cell_type": "markdown",
   "metadata": {},
   "source": [
    "Given a dictionary, create a new dictionay that has the words of the sentence as the key and the length of the word as the value.\n",
    "\n",
    "First, create the dictionary without using dictionary comprehension.\n",
    "\n",
    "Second, create the dictionary using dictionary comprehension."
   ]
  },
  {
   "cell_type": "code",
   "execution_count": null,
   "metadata": {},
   "outputs": [],
   "source": [
    "sentence = \"Gragas and Fizz are my favorite champions in League of Legends\""
   ]
  },
  {
   "cell_type": "markdown",
   "metadata": {},
   "source": [
    "Homework"
   ]
  },
  {
   "cell_type": "markdown",
   "metadata": {},
   "source": [
    "Given a nested list of names, find the names that are less than or equal to 5 characters.\n",
    "\n",
    "First, use a nested for loop.\n",
    "\n",
    "Second, use a nested list comprehension."
   ]
  },
  {
   "cell_type": "code",
   "execution_count": 43,
   "metadata": {},
   "outputs": [
    {
     "data": {
      "text/plain": [
       "['Alex', 'Henry', 'Brent', 'Jacob', 'Tara']"
      ]
     },
     "execution_count": 43,
     "metadata": {},
     "output_type": "execute_result"
    }
   ],
   "source": [
    "all_names = [['Johnathon', 'Alex', 'Trevor'], ['Henry', 'Natalie', 'Brent'], ['Jacob', 'Vineet', 'Taylor'],['Tara','Laurine','Cameron']]"
   ]
  },
  {
   "cell_type": "code",
   "execution_count": 46,
   "metadata": {},
   "outputs": [],
   "source": [
    "all_names = [['Johnathon', 'Alex', 'Trevor'], ['Henry', 'Natalie', 'Brent'], ['Jacob', 'Vineet', 'Taylor'],['Tara','Laurine','Cameron']]"
   ]
  },
  {
   "cell_type": "markdown",
   "metadata": {},
   "source": [
    "Challenge question! This one does not need to be done with list comprehension!\n",
    "\n",
    "Given the same nested list of names, find the longest name within each nested list."
   ]
  },
  {
   "cell_type": "code",
   "execution_count": null,
   "metadata": {},
   "outputs": [],
   "source": []
  },
  {
   "cell_type": "markdown",
   "metadata": {},
   "source": [
    "A successful restaurant cook from the United States is now thinking about expanding his restuarant into Korea. The cook has a dictionary for evvery recipe which include the ingredients and the cost. Create a function that will create a new dictionary with updated cost given the dollar_to_krw conversion. Additionally, find the sum of the cost for the ingreidents."
   ]
  },
  {
   "cell_type": "code",
   "execution_count": 39,
   "metadata": {},
   "outputs": [],
   "source": [
    "recipe_usa = {'Eggs': 1.02, 'Chicken Breast': 5.99, 'Onions': .99, 'Salt': 1.99, 'Pepper': 1.59, 'Mushroom': 1.19, 'Tomatoe': 1.59, 'Potatoe': .88}\n",
    "dollar_to_krw = 1192"
   ]
  },
  {
   "cell_type": "markdown",
   "metadata": {},
   "source": []
  }
 ],
 "metadata": {
  "interpreter": {
   "hash": "aee8b7b246df8f9039afb4144a1f6fd8d2ca17a180786b69acc140d282b71a49"
  },
  "kernelspec": {
   "display_name": "Python 3.9.10 64-bit",
   "language": "python",
   "name": "python3"
  },
  "language_info": {
   "codemirror_mode": {
    "name": "ipython",
    "version": 3
   },
   "file_extension": ".py",
   "mimetype": "text/x-python",
   "name": "python",
   "nbconvert_exporter": "python",
   "pygments_lexer": "ipython3",
   "version": "3.8.8"
  },
  "orig_nbformat": 4
 },
 "nbformat": 4,
 "nbformat_minor": 2
}
