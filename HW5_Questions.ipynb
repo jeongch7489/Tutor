{
 "cells": [
  {
   "cell_type": "code",
   "execution_count": 1,
   "metadata": {},
   "outputs": [],
   "source": [
    "import pandas as pd\n",
    "import numpy as np"
   ]
  },
  {
   "cell_type": "code",
   "execution_count": 5,
   "metadata": {},
   "outputs": [
    {
     "data": {
      "text/html": [
       "<div>\n",
       "<style scoped>\n",
       "    .dataframe tbody tr th:only-of-type {\n",
       "        vertical-align: middle;\n",
       "    }\n",
       "\n",
       "    .dataframe tbody tr th {\n",
       "        vertical-align: top;\n",
       "    }\n",
       "\n",
       "    .dataframe thead th {\n",
       "        text-align: right;\n",
       "    }\n",
       "</style>\n",
       "<table border=\"1\" class=\"dataframe\">\n",
       "  <thead>\n",
       "    <tr style=\"text-align: right;\">\n",
       "      <th></th>\n",
       "      <th>Name</th>\n",
       "      <th>Class</th>\n",
       "      <th>Role</th>\n",
       "      <th>Tier</th>\n",
       "      <th>Score</th>\n",
       "      <th>Trend</th>\n",
       "      <th>Win %</th>\n",
       "      <th>Role %</th>\n",
       "      <th>Pick %</th>\n",
       "      <th>Ban %</th>\n",
       "      <th>KDA</th>\n",
       "    </tr>\n",
       "  </thead>\n",
       "  <tbody>\n",
       "    <tr>\n",
       "      <th>0</th>\n",
       "      <td>Aatrox</td>\n",
       "      <td>Fighter</td>\n",
       "      <td>TOP</td>\n",
       "      <td>S</td>\n",
       "      <td>59.99</td>\n",
       "      <td>4.88</td>\n",
       "      <td>48.06%</td>\n",
       "      <td>92.58%</td>\n",
       "      <td>5.03%</td>\n",
       "      <td>2.15%</td>\n",
       "      <td>1.87</td>\n",
       "    </tr>\n",
       "    <tr>\n",
       "      <th>1</th>\n",
       "      <td>Ahri</td>\n",
       "      <td>Mage</td>\n",
       "      <td>MID</td>\n",
       "      <td>God</td>\n",
       "      <td>95.22</td>\n",
       "      <td>39.37</td>\n",
       "      <td>53.40%</td>\n",
       "      <td>94.04%</td>\n",
       "      <td>15.29%</td>\n",
       "      <td>8.93%</td>\n",
       "      <td>2.59</td>\n",
       "    </tr>\n",
       "    <tr>\n",
       "      <th>2</th>\n",
       "      <td>Akali</td>\n",
       "      <td>Assassin</td>\n",
       "      <td>TOP</td>\n",
       "      <td>S</td>\n",
       "      <td>74.79</td>\n",
       "      <td>-12.94</td>\n",
       "      <td>48.48%</td>\n",
       "      <td>41.25%</td>\n",
       "      <td>5.10%</td>\n",
       "      <td>20.26%</td>\n",
       "      <td>2.08</td>\n",
       "    </tr>\n",
       "    <tr>\n",
       "      <th>3</th>\n",
       "      <td>Akali</td>\n",
       "      <td>Assassin</td>\n",
       "      <td>MID</td>\n",
       "      <td>S</td>\n",
       "      <td>64.77</td>\n",
       "      <td>-9.81</td>\n",
       "      <td>49.10%</td>\n",
       "      <td>58.10%</td>\n",
       "      <td>7.51%</td>\n",
       "      <td>20.26%</td>\n",
       "      <td>2.33</td>\n",
       "    </tr>\n",
       "    <tr>\n",
       "      <th>4</th>\n",
       "      <td>Akshan</td>\n",
       "      <td>Marksman</td>\n",
       "      <td>MID</td>\n",
       "      <td>A</td>\n",
       "      <td>54.42</td>\n",
       "      <td>-9.08</td>\n",
       "      <td>50.75%</td>\n",
       "      <td>59.43%</td>\n",
       "      <td>4.14%</td>\n",
       "      <td>18.73%</td>\n",
       "      <td>2.18</td>\n",
       "    </tr>\n",
       "    <tr>\n",
       "      <th>...</th>\n",
       "      <td>...</td>\n",
       "      <td>...</td>\n",
       "      <td>...</td>\n",
       "      <td>...</td>\n",
       "      <td>...</td>\n",
       "      <td>...</td>\n",
       "      <td>...</td>\n",
       "      <td>...</td>\n",
       "      <td>...</td>\n",
       "      <td>...</td>\n",
       "      <td>...</td>\n",
       "    </tr>\n",
       "    <tr>\n",
       "      <th>233</th>\n",
       "      <td>Ziggs</td>\n",
       "      <td>Mage</td>\n",
       "      <td>MID</td>\n",
       "      <td>B</td>\n",
       "      <td>42.32</td>\n",
       "      <td>0.52</td>\n",
       "      <td>50.46%</td>\n",
       "      <td>27.84%</td>\n",
       "      <td>0.81%</td>\n",
       "      <td>0.46%</td>\n",
       "      <td>2.38</td>\n",
       "    </tr>\n",
       "    <tr>\n",
       "      <th>234</th>\n",
       "      <td>Zilean</td>\n",
       "      <td>Support</td>\n",
       "      <td>MID</td>\n",
       "      <td>A</td>\n",
       "      <td>51.66</td>\n",
       "      <td>-1.39</td>\n",
       "      <td>52.36%</td>\n",
       "      <td>22.05%</td>\n",
       "      <td>1.18%</td>\n",
       "      <td>3.46%</td>\n",
       "      <td>3.35</td>\n",
       "    </tr>\n",
       "    <tr>\n",
       "      <th>235</th>\n",
       "      <td>Zilean</td>\n",
       "      <td>Support</td>\n",
       "      <td>SUPPORT</td>\n",
       "      <td>A</td>\n",
       "      <td>48.41</td>\n",
       "      <td>1.27</td>\n",
       "      <td>50.29%</td>\n",
       "      <td>71.90%</td>\n",
       "      <td>3.55%</td>\n",
       "      <td>3.46%</td>\n",
       "      <td>3.10</td>\n",
       "    </tr>\n",
       "    <tr>\n",
       "      <th>236</th>\n",
       "      <td>Zoe</td>\n",
       "      <td>Mage</td>\n",
       "      <td>MID</td>\n",
       "      <td>A</td>\n",
       "      <td>49.40</td>\n",
       "      <td>1.69</td>\n",
       "      <td>49.97%</td>\n",
       "      <td>92.29%</td>\n",
       "      <td>3.28%</td>\n",
       "      <td>1.31%</td>\n",
       "      <td>2.51</td>\n",
       "    </tr>\n",
       "    <tr>\n",
       "      <th>237</th>\n",
       "      <td>Zyra</td>\n",
       "      <td>Mage</td>\n",
       "      <td>SUPPORT</td>\n",
       "      <td>A</td>\n",
       "      <td>47.50</td>\n",
       "      <td>-0.67</td>\n",
       "      <td>52.36%</td>\n",
       "      <td>90.63%</td>\n",
       "      <td>3.35%</td>\n",
       "      <td>1.98%</td>\n",
       "      <td>2.15</td>\n",
       "    </tr>\n",
       "  </tbody>\n",
       "</table>\n",
       "<p>238 rows × 11 columns</p>\n",
       "</div>"
      ],
      "text/plain": [
       "       Name     Class     Role Tier  Score  Trend   Win %  Role %  Pick %  \\\n",
       "0    Aatrox   Fighter      TOP    S  59.99   4.88  48.06%  92.58%   5.03%   \n",
       "1      Ahri      Mage      MID  God  95.22  39.37  53.40%  94.04%  15.29%   \n",
       "2     Akali  Assassin      TOP    S  74.79 -12.94  48.48%  41.25%   5.10%   \n",
       "3     Akali  Assassin      MID    S  64.77  -9.81  49.10%  58.10%   7.51%   \n",
       "4    Akshan  Marksman      MID    A  54.42  -9.08  50.75%  59.43%   4.14%   \n",
       "..      ...       ...      ...  ...    ...    ...     ...     ...     ...   \n",
       "233   Ziggs      Mage      MID    B  42.32   0.52  50.46%  27.84%   0.81%   \n",
       "234  Zilean   Support      MID    A  51.66  -1.39  52.36%  22.05%   1.18%   \n",
       "235  Zilean   Support  SUPPORT    A  48.41   1.27  50.29%  71.90%   3.55%   \n",
       "236     Zoe      Mage      MID    A  49.40   1.69  49.97%  92.29%   3.28%   \n",
       "237    Zyra      Mage  SUPPORT    A  47.50  -0.67  52.36%  90.63%   3.35%   \n",
       "\n",
       "      Ban %   KDA  \n",
       "0     2.15%  1.87  \n",
       "1     8.93%  2.59  \n",
       "2    20.26%  2.08  \n",
       "3    20.26%  2.33  \n",
       "4    18.73%  2.18  \n",
       "..      ...   ...  \n",
       "233   0.46%  2.38  \n",
       "234   3.46%  3.35  \n",
       "235   3.46%  3.10  \n",
       "236   1.31%  2.51  \n",
       "237   1.98%  2.15  \n",
       "\n",
       "[238 rows x 11 columns]"
      ]
     },
     "execution_count": 5,
     "metadata": {},
     "output_type": "execute_result"
    }
   ],
   "source": [
    "df = pd.read_csv('League of Legends Champion Stats 12.3.csv', sep = ';')\n",
    "df"
   ]
  },
  {
   "cell_type": "markdown",
   "metadata": {},
   "source": [
    "When working with data in pandas, the column name format can be important. Change the name of the columns that have the perctange symbol in it to words.\n",
    "\n",
    "Example.) 'Win %' should become 'Win_Pct'"
   ]
  },
  {
   "cell_type": "code",
   "execution_count": 10,
   "metadata": {},
   "outputs": [
    {
     "data": {
      "text/plain": [
       "Index(['Name', 'Class', 'Role', 'Tier', 'Score', 'Trend', 'Win_Pct',\n",
       "       'Role_Pct', 'Pick_Pct', 'Ban_Pct', 'KDA'],\n",
       "      dtype='object')"
      ]
     },
     "execution_count": 10,
     "metadata": {},
     "output_type": "execute_result"
    }
   ],
   "source": [
    "df.rename(columns={'Win %': 'Win_Pct', \n",
    "                  'Role %': 'Role_Pct',\n",
    "                  'Pick %': 'Pick_Pct', \n",
    "                  'Ban %': 'Ban_Pct'}, inplace=True)\n",
    "df.columns"
   ]
  },
  {
   "cell_type": "markdown",
   "metadata": {},
   "source": [
    "Take a look at the columns that show the percentage? What kind of data type is it? Will this be a problem?"
   ]
  },
  {
   "cell_type": "code",
   "execution_count": 15,
   "metadata": {},
   "outputs": [],
   "source": [
    "df['Win_Pct'] = df['Win_Pct'].replace('%', '', regex=True).astype('float')\n",
    "df['Role_Pct'] = df['Role_Pct'].replace('%', '', regex=True).astype('float')\n",
    "df['Pick_Pct'] = df['Pick_Pct'].replace('%', '', regex=True).astype('float')\n",
    "df['Ban_Pct'] = df['Ban_Pct'].replace('%', '', regex=True).astype('float')"
   ]
  },
  {
   "cell_type": "markdown",
   "metadata": {},
   "source": [
    "How many unique champions are in this dataset? Is there a difference in the count of unique champions and the whole data? Can you explain why there is that difference?"
   ]
  },
  {
   "cell_type": "code",
   "execution_count": 18,
   "metadata": {},
   "outputs": [
    {
     "data": {
      "text/plain": [
       "238"
      ]
     },
     "execution_count": 18,
     "metadata": {},
     "output_type": "execute_result"
    }
   ],
   "source": [
    "name = df['Name'].unique()\n",
    "len(name)\n",
    "\n",
    "len(df['Name'])"
   ]
  },
  {
   "cell_type": "markdown",
   "metadata": {},
   "source": [
    "Find the name of the champions that have:\n",
    "\n",
    "the highest pick percentage, the highest ban percentage, the highest win percentage.\n",
    "\n",
    "Then find the name of the champions that haveL\n",
    "\n",
    "the lowest pick percentage, the lowest ban percentage, the lowest win percentage."
   ]
  },
  {
   "cell_type": "code",
   "execution_count": 19,
   "metadata": {},
   "outputs": [
    {
     "data": {
      "text/html": [
       "<div>\n",
       "<style scoped>\n",
       "    .dataframe tbody tr th:only-of-type {\n",
       "        vertical-align: middle;\n",
       "    }\n",
       "\n",
       "    .dataframe tbody tr th {\n",
       "        vertical-align: top;\n",
       "    }\n",
       "\n",
       "    .dataframe thead th {\n",
       "        text-align: right;\n",
       "    }\n",
       "</style>\n",
       "<table border=\"1\" class=\"dataframe\">\n",
       "  <thead>\n",
       "    <tr style=\"text-align: right;\">\n",
       "      <th></th>\n",
       "      <th>Name</th>\n",
       "      <th>Class</th>\n",
       "      <th>Role</th>\n",
       "      <th>Tier</th>\n",
       "      <th>Score</th>\n",
       "      <th>Trend</th>\n",
       "      <th>Win_Pct</th>\n",
       "      <th>Role_Pct</th>\n",
       "      <th>Pick_Pct</th>\n",
       "      <th>Ban_Pct</th>\n",
       "      <th>KDA</th>\n",
       "    </tr>\n",
       "  </thead>\n",
       "  <tbody>\n",
       "    <tr>\n",
       "      <th>71</th>\n",
       "      <td>Jhin</td>\n",
       "      <td>Marksman</td>\n",
       "      <td>ADC</td>\n",
       "      <td>S</td>\n",
       "      <td>74.41</td>\n",
       "      <td>-18.35</td>\n",
       "      <td>51.09</td>\n",
       "      <td>98.30</td>\n",
       "      <td>22.68</td>\n",
       "      <td>5.42</td>\n",
       "      <td>2.99</td>\n",
       "    </tr>\n",
       "    <tr>\n",
       "      <th>72</th>\n",
       "      <td>Jinx</td>\n",
       "      <td>Marksman</td>\n",
       "      <td>ADC</td>\n",
       "      <td>S</td>\n",
       "      <td>70.16</td>\n",
       "      <td>-16.71</td>\n",
       "      <td>51.11</td>\n",
       "      <td>99.07</td>\n",
       "      <td>21.60</td>\n",
       "      <td>6.19</td>\n",
       "      <td>2.39</td>\n",
       "    </tr>\n",
       "    <tr>\n",
       "      <th>231</th>\n",
       "      <td>Zeri</td>\n",
       "      <td>Marksman</td>\n",
       "      <td>ADC</td>\n",
       "      <td>God</td>\n",
       "      <td>93.51</td>\n",
       "      <td>7.40</td>\n",
       "      <td>52.32</td>\n",
       "      <td>81.37</td>\n",
       "      <td>18.21</td>\n",
       "      <td>50.98</td>\n",
       "      <td>2.45</td>\n",
       "    </tr>\n",
       "    <tr>\n",
       "      <th>39</th>\n",
       "      <td>Ezreal</td>\n",
       "      <td>Marksman</td>\n",
       "      <td>ADC</td>\n",
       "      <td>S</td>\n",
       "      <td>61.47</td>\n",
       "      <td>-9.74</td>\n",
       "      <td>49.18</td>\n",
       "      <td>96.44</td>\n",
       "      <td>18.18</td>\n",
       "      <td>4.43</td>\n",
       "      <td>2.36</td>\n",
       "    </tr>\n",
       "    <tr>\n",
       "      <th>92</th>\n",
       "      <td>Lee Sin</td>\n",
       "      <td>Fighter</td>\n",
       "      <td>JUNGLE</td>\n",
       "      <td>God</td>\n",
       "      <td>89.35</td>\n",
       "      <td>-2.46</td>\n",
       "      <td>47.59</td>\n",
       "      <td>93.27</td>\n",
       "      <td>15.62</td>\n",
       "      <td>14.11</td>\n",
       "      <td>2.67</td>\n",
       "    </tr>\n",
       "    <tr>\n",
       "      <th>...</th>\n",
       "      <td>...</td>\n",
       "      <td>...</td>\n",
       "      <td>...</td>\n",
       "      <td>...</td>\n",
       "      <td>...</td>\n",
       "      <td>...</td>\n",
       "      <td>...</td>\n",
       "      <td>...</td>\n",
       "      <td>...</td>\n",
       "      <td>...</td>\n",
       "      <td>...</td>\n",
       "    </tr>\n",
       "    <tr>\n",
       "      <th>180</th>\n",
       "      <td>Taliyah</td>\n",
       "      <td>Mage</td>\n",
       "      <td>MID</td>\n",
       "      <td>B</td>\n",
       "      <td>43.12</td>\n",
       "      <td>5.46</td>\n",
       "      <td>51.73</td>\n",
       "      <td>15.19</td>\n",
       "      <td>0.24</td>\n",
       "      <td>0.15</td>\n",
       "      <td>2.42</td>\n",
       "    </tr>\n",
       "    <tr>\n",
       "      <th>144</th>\n",
       "      <td>Rumble</td>\n",
       "      <td>Fighter</td>\n",
       "      <td>JUNGLE</td>\n",
       "      <td>C</td>\n",
       "      <td>33.60</td>\n",
       "      <td>7.95</td>\n",
       "      <td>48.96</td>\n",
       "      <td>13.42</td>\n",
       "      <td>0.24</td>\n",
       "      <td>0.25</td>\n",
       "      <td>2.71</td>\n",
       "    </tr>\n",
       "    <tr>\n",
       "      <th>58</th>\n",
       "      <td>Heimerdinger</td>\n",
       "      <td>Mage</td>\n",
       "      <td>SUPPORT</td>\n",
       "      <td>D</td>\n",
       "      <td>30.94</td>\n",
       "      <td>0.68</td>\n",
       "      <td>50.34</td>\n",
       "      <td>12.05</td>\n",
       "      <td>0.24</td>\n",
       "      <td>1.25</td>\n",
       "      <td>1.84</td>\n",
       "    </tr>\n",
       "    <tr>\n",
       "      <th>88</th>\n",
       "      <td>Kled</td>\n",
       "      <td>Fighter</td>\n",
       "      <td>MID</td>\n",
       "      <td>A</td>\n",
       "      <td>49.38</td>\n",
       "      <td>0.00</td>\n",
       "      <td>54.82</td>\n",
       "      <td>10.14</td>\n",
       "      <td>0.18</td>\n",
       "      <td>0.80</td>\n",
       "      <td>2.63</td>\n",
       "    </tr>\n",
       "    <tr>\n",
       "      <th>168</th>\n",
       "      <td>Skarner</td>\n",
       "      <td>Fighter</td>\n",
       "      <td>TOP</td>\n",
       "      <td>D</td>\n",
       "      <td>17.02</td>\n",
       "      <td>-10.21</td>\n",
       "      <td>48.85</td>\n",
       "      <td>19.86</td>\n",
       "      <td>0.16</td>\n",
       "      <td>0.13</td>\n",
       "      <td>2.16</td>\n",
       "    </tr>\n",
       "  </tbody>\n",
       "</table>\n",
       "<p>238 rows × 11 columns</p>\n",
       "</div>"
      ],
      "text/plain": [
       "             Name     Class     Role Tier  Score  Trend  Win_Pct  Role_Pct  \\\n",
       "71           Jhin  Marksman      ADC    S  74.41 -18.35    51.09     98.30   \n",
       "72           Jinx  Marksman      ADC    S  70.16 -16.71    51.11     99.07   \n",
       "231          Zeri  Marksman      ADC  God  93.51   7.40    52.32     81.37   \n",
       "39         Ezreal  Marksman      ADC    S  61.47  -9.74    49.18     96.44   \n",
       "92        Lee Sin   Fighter   JUNGLE  God  89.35  -2.46    47.59     93.27   \n",
       "..            ...       ...      ...  ...    ...    ...      ...       ...   \n",
       "180       Taliyah      Mage      MID    B  43.12   5.46    51.73     15.19   \n",
       "144        Rumble   Fighter   JUNGLE    C  33.60   7.95    48.96     13.42   \n",
       "58   Heimerdinger      Mage  SUPPORT    D  30.94   0.68    50.34     12.05   \n",
       "88           Kled   Fighter      MID    A  49.38   0.00    54.82     10.14   \n",
       "168       Skarner   Fighter      TOP    D  17.02 -10.21    48.85     19.86   \n",
       "\n",
       "     Pick_Pct  Ban_Pct   KDA  \n",
       "71      22.68     5.42  2.99  \n",
       "72      21.60     6.19  2.39  \n",
       "231     18.21    50.98  2.45  \n",
       "39      18.18     4.43  2.36  \n",
       "92      15.62    14.11  2.67  \n",
       "..        ...      ...   ...  \n",
       "180      0.24     0.15  2.42  \n",
       "144      0.24     0.25  2.71  \n",
       "58       0.24     1.25  1.84  \n",
       "88       0.18     0.80  2.63  \n",
       "168      0.16     0.13  2.16  \n",
       "\n",
       "[238 rows x 11 columns]"
      ]
     },
     "execution_count": 19,
     "metadata": {},
     "output_type": "execute_result"
    }
   ],
   "source": [
    "df.sort_values(by='Pick_Pct', ascending=False)"
   ]
  },
  {
   "cell_type": "markdown",
   "metadata": {},
   "source": [
    "What is the average KDA for each role?"
   ]
  },
  {
   "cell_type": "code",
   "execution_count": null,
   "metadata": {},
   "outputs": [],
   "source": [
    "Top = df['Role'] == 'TOP'\n",
    "Jungle = \n",
    "Mid = \n",
    "ADC = \n",
    "Support\n"
   ]
  },
  {
   "cell_type": "markdown",
   "metadata": {},
   "source": [
    "What are the top 10 champions with the highest overall score?"
   ]
  },
  {
   "cell_type": "code",
   "execution_count": null,
   "metadata": {},
   "outputs": [],
   "source": []
  },
  {
   "cell_type": "markdown",
   "metadata": {},
   "source": [
    "What is the count of champions in each Tier?"
   ]
  },
  {
   "cell_type": "code",
   "execution_count": 21,
   "metadata": {},
   "outputs": [
    {
     "data": {
      "text/plain": [
       "Name        59\n",
       "Class       59\n",
       "Role        59\n",
       "Tier        59\n",
       "Score       59\n",
       "Trend       59\n",
       "Win_Pct     59\n",
       "Role_Pct    59\n",
       "Pick_Pct    59\n",
       "Ban_Pct     59\n",
       "KDA         59\n",
       "dtype: int64"
      ]
     },
     "execution_count": 21,
     "metadata": {},
     "output_type": "execute_result"
    }
   ],
   "source": [
    "df[df['Tier'] == 'A'].count()"
   ]
  },
  {
   "cell_type": "markdown",
   "metadata": {},
   "source": [
    "What is the count of champions in each class?"
   ]
  },
  {
   "cell_type": "code",
   "execution_count": null,
   "metadata": {},
   "outputs": [],
   "source": []
  },
  {
   "cell_type": "markdown",
   "metadata": {},
   "source": [
    "Lets say that \"God\" tier really isn't any different than S tier. Change all \"God\" tier into \"S\" tier."
   ]
  },
  {
   "cell_type": "code",
   "execution_count": 24,
   "metadata": {},
   "outputs": [
    {
     "data": {
      "text/plain": [
       "0      S\n",
       "1      S\n",
       "2      S\n",
       "3      S\n",
       "4      A\n",
       "      ..\n",
       "233    B\n",
       "234    A\n",
       "235    A\n",
       "236    A\n",
       "237    A\n",
       "Name: Tier, Length: 238, dtype: object"
      ]
     },
     "execution_count": 24,
     "metadata": {},
     "output_type": "execute_result"
    }
   ],
   "source": [
    "df['Tier'] = df['Tier'].apply(lambda x: 'S' if x == 'God' else x)\n",
    "df['Tier']"
   ]
  },
  {
   "cell_type": "markdown",
   "metadata": {},
   "source": [
    "What is the distribution of tiers of champions for each class?"
   ]
  },
  {
   "cell_type": "code",
   "execution_count": 28,
   "metadata": {},
   "outputs": [
    {
     "data": {
      "text/plain": [
       "Tier  Class   \n",
       "A     Mage        16\n",
       "      Fighter     15\n",
       "      Marksman     9\n",
       "      Tank         7\n",
       "      Assassin     6\n",
       "      Support      6\n",
       "B     Mage        19\n",
       "      Marksman    13\n",
       "      Fighter     12\n",
       "      Assassin     7\n",
       "      Tank         6\n",
       "      Support      3\n",
       "C     Fighter     13\n",
       "      Mage        10\n",
       "      Tank         6\n",
       "      Support      3\n",
       "      Assassin     2\n",
       "      Marksman     2\n",
       "D     Fighter      9\n",
       "      Mage         9\n",
       "      Tank         4\n",
       "      Assassin     1\n",
       "      Marksman     1\n",
       "S     Fighter     21\n",
       "      Assassin    10\n",
       "      Mage         8\n",
       "      Marksman     7\n",
       "      Support      7\n",
       "      Tank         6\n",
       "Name: Class, dtype: int64"
      ]
     },
     "execution_count": 28,
     "metadata": {},
     "output_type": "execute_result"
    }
   ],
   "source": [
    "\n",
    "clas = df['Class'].groupby(df['Tier']).value_counts()\n",
    "clas"
   ]
  },
  {
   "cell_type": "markdown",
   "metadata": {},
   "source": [
    "With the edited tier list, create a new column that represents the Tier list in a numerical value.\n",
    "\n",
    "Try and not sure the lambda function with this question."
   ]
  },
  {
   "cell_type": "code",
   "execution_count": 33,
   "metadata": {
    "scrolled": true
   },
   "outputs": [
    {
     "data": {
      "text/plain": [
       "0      0\n",
       "1      0\n",
       "2      0\n",
       "3      0\n",
       "4      1\n",
       "      ..\n",
       "233    2\n",
       "234    1\n",
       "235    1\n",
       "236    1\n",
       "237    1\n",
       "Name: Tier_Num, Length: 238, dtype: int64"
      ]
     },
     "execution_count": 33,
     "metadata": {},
     "output_type": "execute_result"
    }
   ],
   "source": [
    "mapping = {v: k for k, v in enumerate(df['Tier'].unique())}\n",
    "mapping\n",
    "\n",
    "df['Tier_Num'] = df['Tier'].map(mapping)\n",
    "df['Tier_Num']"
   ]
  },
  {
   "cell_type": "code",
   "execution_count": 42,
   "metadata": {},
   "outputs": [
    {
     "data": {
      "text/html": [
       "<div>\n",
       "<style scoped>\n",
       "    .dataframe tbody tr th:only-of-type {\n",
       "        vertical-align: middle;\n",
       "    }\n",
       "\n",
       "    .dataframe tbody tr th {\n",
       "        vertical-align: top;\n",
       "    }\n",
       "\n",
       "    .dataframe thead th {\n",
       "        text-align: right;\n",
       "    }\n",
       "</style>\n",
       "<table border=\"1\" class=\"dataframe\">\n",
       "  <thead>\n",
       "    <tr style=\"text-align: right;\">\n",
       "      <th></th>\n",
       "      <th>Name</th>\n",
       "      <th>Class</th>\n",
       "      <th>Role</th>\n",
       "      <th>Tier</th>\n",
       "      <th>Score</th>\n",
       "      <th>Trend</th>\n",
       "      <th>Win_Pct</th>\n",
       "      <th>Role_Pct</th>\n",
       "      <th>Pick_Pct</th>\n",
       "      <th>Ban_Pct</th>\n",
       "      <th>KDA</th>\n",
       "      <th>Tier_Num</th>\n",
       "    </tr>\n",
       "  </thead>\n",
       "  <tbody>\n",
       "  </tbody>\n",
       "</table>\n",
       "</div>"
      ],
      "text/plain": [
       "Empty DataFrame\n",
       "Columns: [Name, Class, Role, Tier, Score, Trend, Win_Pct, Role_Pct, Pick_Pct, Ban_Pct, KDA, Tier_Num]\n",
       "Index: []"
      ]
     },
     "execution_count": 42,
     "metadata": {},
     "output_type": "execute_result"
    }
   ],
   "source": [
    "df[5989:]"
   ]
  },
  {
   "cell_type": "markdown",
   "metadata": {},
   "source": [
    "The Trend column indicates the change in overall score since the last patch. Based on the trend column, create a new column that indicates \"Positive\" if the trend has gone up and \"Negative\" if the trend has gone down."
   ]
  },
  {
   "cell_type": "code",
   "execution_count": null,
   "metadata": {},
   "outputs": [],
   "source": []
  },
  {
   "cell_type": "markdown",
   "metadata": {},
   "source": [
    "Which champions had the biggest negative and positive difference in their trend?"
   ]
  },
  {
   "cell_type": "code",
   "execution_count": null,
   "metadata": {},
   "outputs": [],
   "source": []
  },
  {
   "cell_type": "markdown",
   "metadata": {},
   "source": [
    "As you can see in the data, there are some champions that can be played in multiple roles. First, which champions can be played in multiple roles? "
   ]
  },
  {
   "cell_type": "code",
   "execution_count": null,
   "metadata": {},
   "outputs": [],
   "source": []
  },
  {
   "cell_type": "markdown",
   "metadata": {},
   "source": [
    "Create a function that takes a user input and will create a subset of the role based on user input."
   ]
  },
  {
   "cell_type": "code",
   "execution_count": null,
   "metadata": {},
   "outputs": [],
   "source": []
  },
  {
   "cell_type": "markdown",
   "metadata": {},
   "source": [
    "Create a function that takes a user input of a champion name. If the champion can be played in multiple roles, will return the role which has a higher win percentage."
   ]
  },
  {
   "cell_type": "code",
   "execution_count": null,
   "metadata": {},
   "outputs": [],
   "source": []
  },
  {
   "cell_type": "markdown",
   "metadata": {},
   "source": [
    "Homework"
   ]
  },
  {
   "cell_type": "markdown",
   "metadata": {},
   "source": [
    "Create a function that will randomaly generate a full team composition. \n",
    "The function should return a dictionary with the key being the role and the value being the champion name.\n",
    "\n",
    "Each team must have a Top, Jungle, Mid, Bot, and Support"
   ]
  },
  {
   "cell_type": "code",
   "execution_count": null,
   "metadata": {},
   "outputs": [],
   "source": []
  },
  {
   "cell_type": "markdown",
   "metadata": {},
   "source": [
    "Create a function that will randomly generate a full team composition. This time however, only include champions that have a win percentage greater than 50%."
   ]
  },
  {
   "cell_type": "code",
   "execution_count": null,
   "metadata": {},
   "outputs": [],
   "source": []
  }
 ],
 "metadata": {
  "interpreter": {
   "hash": "40d3a090f54c6569ab1632332b64b2c03c39dcf918b08424e98f38b5ae0af88f"
  },
  "kernelspec": {
   "display_name": "Python 3 (ipykernel)",
   "language": "python",
   "name": "python3"
  },
  "language_info": {
   "codemirror_mode": {
    "name": "ipython",
    "version": 3
   },
   "file_extension": ".py",
   "mimetype": "text/x-python",
   "name": "python",
   "nbconvert_exporter": "python",
   "pygments_lexer": "ipython3",
   "version": "3.9.7"
  }
 },
 "nbformat": 4,
 "nbformat_minor": 2
}
